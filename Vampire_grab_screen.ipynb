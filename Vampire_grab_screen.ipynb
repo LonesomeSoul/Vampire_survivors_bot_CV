{
 "cells": [
  {
   "cell_type": "code",
   "execution_count": 34,
   "id": "26ddebca",
   "metadata": {},
   "outputs": [],
   "source": [
    "import cv2,keyboard,pyautogui as pg, numpy as np,os,gc,sys\n",
    "import utils"
   ]
  },
  {
   "cell_type": "code",
   "execution_count": 44,
   "id": "2cd92258",
   "metadata": {},
   "outputs": [],
   "source": [
    "def process_cfg(cfg_file_arr):\n",
    "    global directions_str_arr\n",
    "    cfg_file_result=[]\n",
    "    direction_count_str=['directions']\n",
    "    direction_count=[]\n",
    "    path=cfg_file_arr[0][1]\n",
    "    path_imgs=os.path.join(path,\"directions_imgs\")\n",
    "    if os.path.exists(path_imgs)==False:\n",
    "        os.mkdir(path_imgs)\n",
    "    for i in directions_str_arr:\n",
    "        try:\n",
    "            #direction_count_str.append(str(len(os.listdir(os.path.join(path,i)))))\n",
    "            direction_count.append(len(os.listdir(os.path.join(path_imgs,i))))\n",
    "        except:\n",
    "            os.mkdir(os.path.join(path_imgs,i))\n",
    "            #direction_count_str.append(\"0\")\n",
    "            direction_count.append(0)\n",
    "    cfg_file_result.append(direction_count_str)\n",
    "    \n",
    "    screen_arr=[]\n",
    "    for i in range(1,len(cfg_file_arr[1])):\n",
    "        if i<5:\n",
    "            screen_arr.append(int(cfg_file_arr[1][i]))  \n",
    "    return direction_count,screen_arr,path"
   ]
  },
  {
   "cell_type": "code",
   "execution_count": 40,
   "id": "3ff96a95",
   "metadata": {},
   "outputs": [],
   "source": [
    "def mouseClick(events, x, y, flags, params):\n",
    "        global posList\n",
    "        if events == cv2.EVENT_LBUTTONDOWN:\n",
    "            posList.append((x, y))\n",
    "        elif events == cv2.EVENT_RBUTTONDOWN:\n",
    "            posList.pop(-1)\n",
    "\n",
    "def action():\n",
    "    global root_path\n",
    "    #path_1=r\"G:\\DS\\Vampire_survivors\\directions_imgs\"\n",
    "    path_1=os.path.join(root_path,\"directions_imgs\")\n",
    "    #path_2=r\"G:\\DS\\Vampire_survivors\\etc\\screenshots\"\n",
    "    path_2=os.path.join(root_path,\"etc\",\"screenshots\")\n",
    "\n",
    "    path_adding=\"\"\n",
    "    #path_adding_arr=[\"\\\\right\",\"\\\\left\",\"\\\\forward\",\"\\\\back\",\"\\\\space\",\"\\\\nothing\"]\n",
    "\n",
    "    cfg_file_arr=[]\n",
    "    #path_1=r\"G:\\DS\\Vampire_survivors\"\n",
    "    file=open(root_path)\n",
    "    for it, line in enumerate(file):\n",
    "        line = line.strip()\n",
    "        cfg_file_arr.append(line.split())\n",
    "    file.close()\n",
    "    direction_count,screen_pos_arr,root_path=process_cfg(cfg_file_arr)\n",
    "    x1,y1=screen_pos_arr[0],screen_pos_arr[1]\n",
    "    x2,y2=screen_pos_arr[2],screen_pos_arr[3]\n",
    "\n",
    "    cv2.waitKey(5000)\n",
    "    img_np=np.array(pg.screenshot())\n",
    "    frame = cv2.cvtColor(img_np, cv2.COLOR_BGR2GRAY)\n",
    "    while True:\n",
    "        #cv2.imwrite(os.path.join(path_1,'123231.png'), frame)\n",
    "        img_np_drawn=img_np.copy()\n",
    "        for i in posList:\n",
    "            cv2.circle(img_np_drawn, (i), radius=3, color=(255, 0, 255), thickness=2)\n",
    "        if len(posList)>1:\n",
    "            cv2.rectangle(img_np_drawn, posList[0], (posList[1][0], posList[1][1]), (255, 0, 255), 2)\n",
    "        cv2.waitKey(1)\n",
    "        cv2.imshow(\"frame\",img_np_drawn)\n",
    "        cv2.setMouseCallback(\"frame\", mouseClick)\n",
    "        if keyboard.is_pressed(\"escape\"):\n",
    "            break\n",
    "    cv2.destroyWindow('frame')\n",
    "    try:\n",
    "        x1,y1=posList[0]\n",
    "        x2,y2=posList[1]\n",
    "    except:\n",
    "        print(\"Ошибка: Неверное количество точек\")\n",
    "\n",
    "    file=open(r\"Vampire_survivors_bot\\Vampire_survivors_cfg.txt\",\"w\")\n",
    "    file.write(\"path \"+root_path+\"\\n\"+\"screen \")\n",
    "    for i in [x1,y1,x2,y2]:\n",
    "        file.write(str(i)+\" \")\n",
    "    file.close()"
   ]
  },
  {
   "cell_type": "code",
   "execution_count": 46,
   "id": "ec6ce251",
   "metadata": {},
   "outputs": [
    {
     "ename": "SystemExit",
     "evalue": "",
     "output_type": "error",
     "traceback": [
      "An exception has occurred, use %tb to see the full traceback.\n",
      "\u001b[1;31mSystemExit\u001b[0m\n"
     ]
    }
   ],
   "source": [
    "if __name__ == '__main__':\n",
    "    posList=[]\n",
    "    directions_str_dict={\"r\":0,\"l\":1,\"u\":2,\"d\":3,\"ru\":4,\"rd\":5,\"lu\":6,\"ld\":7}\n",
    "    directions_str_arr=[\"r\",\"l\",\"u\",\"d\",\"ru\",\"rd\",\"lu\",\"ld\"]\n",
    "    root_path=r\"Vampire_survivors_bot\\Vampire_survivors_cfg.txt\"\n",
    "    if (os.path.exists(root_path)):\n",
    "        action()\n",
    "    else:\n",
    "        try:\n",
    "            os.mkdir(\"Vampire_survivors_bot\")\n",
    "        except:\n",
    "            pass\n",
    "        file=open(root_path,\"w\")\n",
    "        file.write(\"path \"+os.path.join(os.path.abspath(os.getcwd()),\"Vampire_survivors_bot\")+\"\\n\"+\"screen \")\n",
    "        for i in [0,0,1920,1080]:\n",
    "            file.write(str(i)+\" \")\n",
    "        file.close()\n",
    "    sys.exit()"
   ]
  },
  {
   "cell_type": "code",
   "execution_count": null,
   "id": "07770527",
   "metadata": {},
   "outputs": [],
   "source": []
  },
  {
   "cell_type": "code",
   "execution_count": null,
   "id": "c129fc9f",
   "metadata": {},
   "outputs": [],
   "source": []
  }
 ],
 "metadata": {
  "kernelspec": {
   "display_name": "Python 3 (ipykernel)",
   "language": "python",
   "name": "python3"
  },
  "language_info": {
   "codemirror_mode": {
    "name": "ipython",
    "version": 3
   },
   "file_extension": ".py",
   "mimetype": "text/x-python",
   "name": "python",
   "nbconvert_exporter": "python",
   "pygments_lexer": "ipython3",
   "version": "3.9.12"
  }
 },
 "nbformat": 4,
 "nbformat_minor": 5
}
