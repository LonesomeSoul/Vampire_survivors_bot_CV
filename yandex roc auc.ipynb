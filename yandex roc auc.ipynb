{
 "cells": [
  {
   "cell_type": "code",
   "execution_count": 1,
   "id": "7a87aee7",
   "metadata": {},
   "outputs": [],
   "source": [
    "def compare_less(a,b):\n",
    "    if (a!=b):\n",
    "        return int(a<b)\n",
    "    else:\n",
    "        return 0.5"
   ]
  },
  {
   "cell_type": "code",
   "execution_count": 2,
   "id": "8455f2ad",
   "metadata": {},
   "outputs": [],
   "source": [
    "def compare(value_1,value_2):\n",
    "    global upper_sum,lower_sum\n",
    "    if (value_1>=value_2):\n",
    "        if (value_1>value_2):\n",
    "            upper_sum+=1\n",
    "        else:\n",
    "            upper_sum+=0.5"
   ]
  },
  {
   "cell_type": "code",
   "execution_count": 1,
   "id": "f1a504f7",
   "metadata": {},
   "outputs": [],
   "source": [
    "def merge_sort(array, left_index, right_index):\n",
    "    if left_index >= right_index:\n",
    "        return\n",
    "\n",
    "    middle = (left_index + right_index)//2\n",
    "    merge_sort(array, left_index, middle)\n",
    "    merge_sort(array, middle + 1, right_index)\n",
    "    merge(array, left_index, right_index, middle)\n",
    "def merge(array, left_index, right_index, middle):\n",
    "    # Make copies of both arrays we're trying to merge\n",
    "\n",
    "    # The second parameter is non-inclusive, so we have to increase by 1\n",
    "    left_copy = array[left_index:middle + 1]\n",
    "    right_copy = array[middle+1:right_index+1]\n",
    "\n",
    "    # Initial values for variables that we use to keep\n",
    "    # track of where we are in each array\n",
    "    left_copy_index = 0\n",
    "    right_copy_index = 0\n",
    "    sorted_index = left_index\n",
    "\n",
    "    # Go through both copies until we run out of elements in one\n",
    "    while left_copy_index < len(left_copy) and right_copy_index < len(right_copy):\n",
    "\n",
    "        # If our left_copy has the smaller element, put it in the sorted\n",
    "        # part and then move forward in left_copy (by increasing the pointer)\n",
    "        if left_copy[left_copy_index] >= right_copy[right_copy_index]:\n",
    "        #if left_copy[left_copy_index][0] >= right_copy[right_copy_index][0]:\n",
    "            array[sorted_index] = left_copy[left_copy_index]\n",
    "            left_copy_index = left_copy_index + 1\n",
    "        # Opposite from above\n",
    "        else:\n",
    "            array[sorted_index] = right_copy[right_copy_index]\n",
    "            right_copy_index = right_copy_index + 1\n",
    "\n",
    "        # Regardless of where we got our element from\n",
    "        # move forward in the sorted part\n",
    "        sorted_index = sorted_index + 1\n",
    "\n",
    "    # We ran out of elements either in left_copy or right_copy\n",
    "    # so we will go through the remaining elements and add them\n",
    "    while left_copy_index < len(left_copy):\n",
    "        array[sorted_index] = left_copy[left_copy_index]\n",
    "        left_copy_index = left_copy_index + 1\n",
    "        sorted_index = sorted_index + 1\n",
    "\n",
    "    while right_copy_index < len(right_copy):\n",
    "        array[sorted_index] = right_copy[right_copy_index]\n",
    "        right_copy_index = right_copy_index + 1\n",
    "        sorted_index = sorted_index + 1"
   ]
  },
  {
   "cell_type": "code",
   "execution_count": 2,
   "id": "12adb6b7",
   "metadata": {},
   "outputs": [],
   "source": [
    "def binary_search_iterative(array, element,end):\n",
    "    mid = 0\n",
    "    start = 0\n",
    "    step = 0\n",
    "\n",
    "    while (start <= end):\n",
    "        #print(\"Subarray in step {}: {}\".format(step, str(array[start:end+1])))\n",
    "        step = step+1\n",
    "        mid = (start + end) // 2\n",
    "\n",
    "        if element == array[mid]:\n",
    "            return mid\n",
    "\n",
    "        if element > array[mid]:\n",
    "            end = mid - 1\n",
    "        else:\n",
    "            start = mid + 1\n",
    "    return -1"
   ]
  },
  {
   "cell_type": "code",
   "execution_count": 17,
   "id": "81447724",
   "metadata": {},
   "outputs": [
    {
     "name": "stdout",
     "output_type": "stream",
     "text": [
      "0.5384615384615384\n"
     ]
    }
   ],
   "source": [
    "\n",
    "array=arr\n",
    "merge_sort(array, 0, len(array) -1)\n",
    "upper_sum=0\n",
    "lower_sum=0\n",
    "start_idx=0\n",
    "lowest_mark=arr[-1][0]\n",
    "lowest_mark_range=0\n",
    "for i in range(y):\n",
    "    if (arr[y-1-i][0]>lowest_mark):\n",
    "        lowest_mark_range=i\n",
    "        break\n",
    "work_range=y-lowest_mark_range\n",
    "second_start_idx=work_range\n",
    "for i in range((work_range)//2):\n",
    "    second_base_idx=work_range-i-1\n",
    "    if (i==start_idx):\n",
    "        for j in range(i+1,y):\n",
    "            if (arr[j][0]<arr[i][0]):\n",
    "                start_idx=j\n",
    "                break\n",
    "    if (arr[second_base_idx][0]>arr[second_start_idx][0]):\n",
    "        second_start_idx=second_base_idx\n",
    "    for j in range(start_idx,y):\n",
    "        compare(arr[i][1],arr[j][1])\n",
    "        if (j>second_start_idx):\n",
    "            compare(arr[second_base_idx][1],arr[j][1])\n",
    "            lower_sum+=1\n",
    "        #upper_sum+=compare_more(arr[i][1],arr[j][1])\n",
    "    lower_sum+=y-start_idx\n",
    "    #lower_sum+=y-second_start_idx-1\n",
    "\n",
    "if ((work_range)%2!=0 and work_range>1):\n",
    "    for i in range(start_idx,y):\n",
    "        compare(arr[second_base_idx-1][1],arr[i][1])\n",
    "    #lower_sum+=y-start_idx\n",
    "        lower_sum+=1\n",
    "if (work_range==1):\n",
    "    for i in range(1,y):\n",
    "        compare(arr[0][1],arr[i][1])\n",
    "    #lower_sum+=y-start_idx\n",
    "        lower_sum+=1\n",
    "if (lower_sum==0):\n",
    "    print(0.0)\n",
    "else:\n",
    "    print(upper_sum/lower_sum)"
   ]
  },
  {
   "cell_type": "code",
   "execution_count": null,
   "id": "b46bc6d0",
   "metadata": {},
   "outputs": [],
   "source": []
  },
  {
   "cell_type": "code",
   "execution_count": 23,
   "id": "ae1b4c66",
   "metadata": {},
   "outputs": [],
   "source": [
    "from binance.spot import Spot \n",
    "from sys import stderr\n",
    "import sys, os,datetime,requests,json,pandas as pd,numpy as np\n",
    "import time,math, gc\n",
    "\n",
    "from sklearn.linear_model import LogisticRegression\n",
    "from sklearn.svm import SVC, LinearSVC\n",
    "from sklearn.ensemble import RandomForestRegressor\n",
    "from sklearn.neighbors import KNeighborsClassifier\n",
    "from sklearn.naive_bayes import GaussianNB\n",
    "from sklearn.linear_model import Perceptron\n",
    "from sklearn.linear_model import SGDClassifier\n",
    "from sklearn.tree import DecisionTreeClassifier\n",
    "import sklearn\n",
    "from sklearn.model_selection import train_test_split\n",
    "min_max_scaler = sklearn.preprocessing.MinMaxScaler()\n",
    "\n",
    "\n",
    "\n",
    "import torch\n",
    "import torch.nn as nn\n",
    "import torch.nn.functional as F\n",
    "import torchvision"
   ]
  },
  {
   "cell_type": "code",
   "execution_count": 207,
   "id": "8e453cf5",
   "metadata": {},
   "outputs": [],
   "source": [
    "y=2\n",
    "arr=[[0,1],[1,0]]"
   ]
  },
  {
   "cell_type": "code",
   "execution_count": 3,
   "id": "e557b421",
   "metadata": {},
   "outputs": [],
   "source": [
    "y=7\n",
    "arr=[[0, 0],\n",
    "[0, 1],\n",
    "[1, 2],\n",
    "[0, 3],\n",
    "[1, 4],\n",
    "[1, 5],\n",
    "[1, 6]]\n"
   ]
  },
  {
   "cell_type": "code",
   "execution_count": 9,
   "id": "d66fa6bc",
   "metadata": {},
   "outputs": [],
   "source": [
    "y=10\n",
    "arr=[[0, 4],[3, 0],[1, 2],[2, 4],[1 ,0],[2 ,1],[4 ,1],[2, 1],[4 ,4],[0 ,0]]"
   ]
  },
  {
   "cell_type": "code",
   "execution_count": 14,
   "id": "b85d4489",
   "metadata": {},
   "outputs": [],
   "source": [
    "marks=[]\n",
    "for i in range(len(arr)):\n",
    "    marks.append(arr[i][1])\n",
    "merge_sort(marks, 0, len(marks) -1)"
   ]
  },
  {
   "cell_type": "code",
   "execution_count": 16,
   "id": "1e5a8513",
   "metadata": {},
   "outputs": [
    {
     "name": "stdout",
     "output_type": "stream",
     "text": [
      "Subarray in step 0: [1, 0]\n"
     ]
    },
    {
     "data": {
      "text/plain": [
       "1"
      ]
     },
     "execution_count": 16,
     "metadata": {},
     "output_type": "execute_result"
    }
   ],
   "source": [
    "binary_search_iterative(marks,0)"
   ]
  },
  {
   "cell_type": "code",
   "execution_count": 134,
   "id": "71ca7e86",
   "metadata": {},
   "outputs": [],
   "source": [
    "arr=np.asarray(arr)\n",
    "#arr=pd.DataFrame(arr)"
   ]
  },
  {
   "cell_type": "code",
   "execution_count": 199,
   "id": "420decbc",
   "metadata": {},
   "outputs": [],
   "source": [
    "#arr[0]=arr[2]\n",
    "#arr"
   ]
  },
  {
   "cell_type": "code",
   "execution_count": 122,
   "id": "9744d501",
   "metadata": {},
   "outputs": [
    {
     "data": {
      "text/plain": [
       "[[4, 4],\n",
       " [4, 1],\n",
       " [3, 4],\n",
       " [3, 4],\n",
       " [3, 3],\n",
       " [3, 2],\n",
       " [2, 1],\n",
       " [2, 0],\n",
       " [1, 2],\n",
       " [0, 2]]"
      ]
     },
     "execution_count": 122,
     "metadata": {},
     "output_type": "execute_result"
    }
   ],
   "source": [
    "arr"
   ]
  },
  {
   "cell_type": "code",
   "execution_count": 200,
   "id": "8a7a6944",
   "metadata": {},
   "outputs": [],
   "source": [
    "y=10\n",
    "arr=[[3, 4],\n",
    "[3, 4],\n",
    "[2, 1],\n",
    "[3, 2],\n",
    "[4, 1],\n",
    "[0, 2],\n",
    "[2, 0],\n",
    "[1, 2],\n",
    "[4, 4],\n",
    "[3, 3]]\n"
   ]
  },
  {
   "cell_type": "code",
   "execution_count": 226,
   "id": "b2c21f94",
   "metadata": {},
   "outputs": [
    {
     "name": "stdout",
     "output_type": "stream",
     "text": [
      "0\n",
      "2.5\n",
      "4.5\n",
      "6.0\n",
      "7.0\n",
      "7.5\n",
      "7.5\n",
      "0.21052631578947367\n"
     ]
    }
   ],
   "source": [
    "merge_sort(arr, 0, len(arr) -1)\n",
    "upper_sum=0\n",
    "lower_sum=0\n",
    "start_idx=0\n",
    "same_count_negative=0\n",
    "lowest_mark=arr[-1][0]\n",
    "lowest_mark_range=0\n",
    "marks=[]\n",
    "same_count=0\n",
    "for i in range(len(arr)):\n",
    "    marks.append(arr[i][1])\n",
    "merge_sort(marks, 0, len(marks) -1)\n",
    "for i in range(y):\n",
    "    if (arr[y-1-i][0]>lowest_mark):\n",
    "        lowest_mark_range=i\n",
    "        break\n",
    "marks_size=len(marks)\n",
    "for i in range(y-lowest_mark_range):\n",
    "    if (i==start_idx):\n",
    "        for j in range(i+1,y):\n",
    "            if (arr[j][0]<arr[i][0]):\n",
    "                start_idx=j\n",
    "                break\n",
    "    start_delta=0\n",
    "    start_delta_marks=0\n",
    "    for j in range(i+1,start_idx):\n",
    "        if (arr[j][1]==arr[i][1]):\n",
    "            same_count_negative+=0.5\n",
    "            start_delta+=1\n",
    "    start_idx_marks=binary_search_iterative(marks,arr[i][1],marks_size)\n",
    "    this_mark=marks[start_idx_marks]\n",
    "    for j in range(1,start_idx_marks+1):\n",
    "        if (marks[start_idx_marks-j])==this_mark:\n",
    "            same_count+=0.5\n",
    "        else:\n",
    "            break\n",
    "    for j in range(start_idx_marks+1,marks_size):\n",
    "        if (marks[j])==this_mark: \n",
    "            same_count+=0.5\n",
    "            start_delta_marks+=1\n",
    "        else:\n",
    "            break\n",
    "    upper_sum+=marks_size-start_idx_marks-start_delta_marks-start_idx+i+start_delta\n",
    "    del(marks[start_idx_marks])\n",
    "    marks_size-=1\n",
    "    lower_sum+=y-start_idx\n",
    "    print(same_count)\n",
    "upper_sum+=(same_count-same_count_negative)\n",
    "if (lower_sum==0):\n",
    "    print(0.0)\n",
    "else:\n",
    "    print(upper_sum/lower_sum)\n",
    "    \n",
    "    ################ рабочая"
   ]
  },
  {
   "cell_type": "code",
   "execution_count": 220,
   "id": "4da32715",
   "metadata": {},
   "outputs": [
    {
     "name": "stdout",
     "output_type": "stream",
     "text": [
      "93.0 123\n"
     ]
    }
   ],
   "source": [
    "print(upper_sum,lower_sum)"
   ]
  },
  {
   "cell_type": "code",
   "execution_count": 225,
   "id": "599df962",
   "metadata": {},
   "outputs": [
    {
     "name": "stdout",
     "output_type": "stream",
     "text": [
      "0.21052631578947367\n"
     ]
    }
   ],
   "source": [
    "merge_sort(arr, 0, len(arr) -1)\n",
    "upper_sum=0\n",
    "lower_sum=0\n",
    "start_idx=0\n",
    "same_count_negative=0\n",
    "lowest_mark=arr[-1][0]\n",
    "lowest_mark_range=0\n",
    "marks=[]\n",
    "same_count=0\n",
    "for i in range(len(arr)):\n",
    "    marks.append(arr[i][1])\n",
    "merge_sort(marks, 0, len(marks) -1)\n",
    "for i in range(y):\n",
    "    if (arr[y-1-i][0]>lowest_mark):\n",
    "        lowest_mark_range=i\n",
    "        break\n",
    "marks_size=len(marks)\n",
    "#for i in range(y-lowest_mark_range):\n",
    "i=0\n",
    "while(i<y-lowest_mark_range):\n",
    "    i_mark=arr[i][0]\n",
    "    i_pred=arr[i][1]\n",
    "    if (i==start_idx):\n",
    "        for j in range(i+1,y):\n",
    "            if (arr[j][0]<i_mark):\n",
    "                start_idx=j\n",
    "                start_delta_arr=[0]\n",
    "                start_delta_arr_idx=0\n",
    "                break\n",
    "        lower_sum+=(y-start_idx)*(start_idx-i)\n",
    "        this_value=arr[start_idx-1][1]\n",
    "        same_count_second=0\n",
    "        for j in range(start_idx-2,i-1,-1):\n",
    "            if (this_value==arr[j][1]):\n",
    "                same_count_second+=1\n",
    "                same_count_negative+=0.5*same_count_second\n",
    "            else:\n",
    "                this_value=arr[j][1]\n",
    "                if (same_count_second>0):\n",
    "                    same_count_second=0\n",
    "            start_delta_arr.append(same_count_second)\n",
    "        start_delta_arr=start_delta_arr[::-1]\n",
    "    start_delta_marks=0\n",
    "    start_idx_marks=binary_search_iterative(marks,i_pred,marks_size)\n",
    "    this_mark=marks[start_idx_marks]\n",
    "    same_marks_idx_arr=[start_idx_marks]\n",
    "    same_count=0\n",
    "    for j in range(1,start_idx_marks+1):\n",
    "        if (marks[start_idx_marks-j])==this_mark:\n",
    "            same_count+=0.5\n",
    "            same_marks_idx_arr.append(start_idx_marks-j)\n",
    "        else:\n",
    "            break\n",
    "    for j in range(start_idx_marks+1,marks_size):\n",
    "        if (marks[j])==this_mark: \n",
    "            same_count+=0.5\n",
    "            start_delta_marks+=1\n",
    "            same_marks_idx_arr.append(j)\n",
    "        else:\n",
    "            break\n",
    "    repeats_count=start_delta_arr[start_delta_arr_idx]\n",
    "    upper_sum+=(marks_size-start_idx_marks-start_delta_marks-start_idx+i+repeats_count)*(repeats_count+1)\n",
    "    start_delta_arr_idx+=1+repeats_count\n",
    "    merge_sort(same_marks_idx_arr, 0, len(same_marks_idx_arr) -1)\n",
    "    for j in range(repeats_count+1):\n",
    "        del(marks[same_marks_idx_arr[j]])\n",
    "    if (repeats_count>0):\n",
    "        i+=repeats_count\n",
    "        marks_size-=1*(repeats_count)\n",
    "    marks_size-=1\n",
    "    i+=1\n",
    "    same_count_sum=same_count\n",
    "    for j in range(1,repeats_count+1):\n",
    "        same_count_sum+=same_count-j*0.5\n",
    "    #print(same_count)\n",
    "    upper_sum+=same_count_sum\n",
    "upper_sum-=same_count_negative\n",
    "if (lower_sum==0):\n",
    "    print(0.0)\n",
    "else:\n",
    "    print(upper_sum/lower_sum)"
   ]
  },
  {
   "cell_type": "code",
   "execution_count": 146,
   "id": "245c3167",
   "metadata": {},
   "outputs": [],
   "source": [
    "#arr"
   ]
  },
  {
   "cell_type": "code",
   "execution_count": 214,
   "id": "effa3045",
   "metadata": {},
   "outputs": [
    {
     "ename": "TypeError",
     "evalue": "list indices must be integers or slices, not list",
     "output_type": "error",
     "traceback": [
      "\u001b[1;31m---------------------------------------------------------------------------\u001b[0m",
      "\u001b[1;31mTypeError\u001b[0m                                 Traceback (most recent call last)",
      "\u001b[1;32mC:\\Users\\DANIEL~1\\AppData\\Local\\Temp/ipykernel_7608/1256630456.py\u001b[0m in \u001b[0;36m<module>\u001b[1;34m\u001b[0m\n\u001b[0;32m      1\u001b[0m \u001b[0mabc\u001b[0m\u001b[1;33m=\u001b[0m\u001b[1;33m[\u001b[0m\u001b[1;36m1\u001b[0m\u001b[1;33m,\u001b[0m\u001b[1;36m2\u001b[0m\u001b[1;33m,\u001b[0m\u001b[1;36m3\u001b[0m\u001b[1;33m,\u001b[0m\u001b[1;36m4\u001b[0m\u001b[1;33m,\u001b[0m\u001b[1;36m5\u001b[0m\u001b[1;33m]\u001b[0m\u001b[1;33m\u001b[0m\u001b[1;33m\u001b[0m\u001b[0m\n\u001b[1;32m----> 2\u001b[1;33m \u001b[1;32mdel\u001b[0m\u001b[1;33m(\u001b[0m\u001b[0mabc\u001b[0m\u001b[1;33m[\u001b[0m\u001b[1;33m[\u001b[0m\u001b[1;36m0\u001b[0m\u001b[1;33m,\u001b[0m\u001b[1;36m4\u001b[0m\u001b[1;33m]\u001b[0m\u001b[1;33m]\u001b[0m\u001b[1;33m)\u001b[0m\u001b[1;33m\u001b[0m\u001b[1;33m\u001b[0m\u001b[0m\n\u001b[0m",
      "\u001b[1;31mTypeError\u001b[0m: list indices must be integers or slices, not list"
     ]
    }
   ],
   "source": [
    "abc=[1,2,3,4,5]\n",
    "del(abc[[0,4]])"
   ]
  },
  {
   "cell_type": "code",
   "execution_count": 223,
   "id": "32147e2e",
   "metadata": {},
   "outputs": [
    {
     "name": "stdout",
     "output_type": "stream",
     "text": [
      "93.0 123\n"
     ]
    }
   ],
   "source": [
    "print(upper_sum,lower_sum)"
   ]
  },
  {
   "cell_type": "code",
   "execution_count": 176,
   "id": "fc03520a",
   "metadata": {},
   "outputs": [
    {
     "name": "stdout",
     "output_type": "stream",
     "text": [
      "[0.0]\n",
      "[0.0]\n",
      "[0.0]\n",
      "[0.0]\n",
      "[0.0]\n",
      "[0.0]\n",
      "[0.0]\n",
      "[0.0]\n",
      "[0.0]\n",
      "[0.0]\n",
      "[0.0]\n",
      "[0.0]\n",
      "[0.0]\n",
      "[0.0]\n",
      "[0.0]\n",
      "[0.0]\n",
      "0.7560975609756098\n"
     ]
    }
   ],
   "source": [
    "merge_sort(arr, 0, len(arr) -1)\n",
    "#arr=np.asarray(arr)\n",
    "upper_sum=0\n",
    "lower_sum=0\n",
    "start_idx=0\n",
    "lowest_mark=arr[-1][0]\n",
    "lowest_mark_range=0\n",
    "for i in range(y):\n",
    "    if (arr[y-1-i][0]>lowest_mark):\n",
    "        lowest_mark_range=i\n",
    "        break\n",
    "for i in range(y-lowest_mark_range):\n",
    "    if (i==start_idx):\n",
    "        for j in range(i+1,y):\n",
    "            if (arr[j][0]<arr[i][0]):\n",
    "                start_idx=j\n",
    "                break\n",
    "    for j in range(start_idx,y):\n",
    "        if (arr[i][1]>=arr[j][1]):\n",
    "            if (arr[i][1]>arr[j][1]):\n",
    "                upper_sum+=1\n",
    "            else:\n",
    "                upper_sum+=0.5\n",
    "        #upper_sum+=compare_more(arr[i][1],arr[j][1])\n",
    "    lower_sum+=y-start_idx\n",
    "    print(marks)\n",
    "if (lower_sum==0):\n",
    "    print(0.0)\n",
    "else:\n",
    "    print(upper_sum/lower_sum)"
   ]
  },
  {
   "cell_type": "code",
   "execution_count": 143,
   "id": "7848a5d2",
   "metadata": {},
   "outputs": [
    {
     "name": "stdout",
     "output_type": "stream",
     "text": [
      "92.5 123\n"
     ]
    }
   ],
   "source": [
    "print(upper_sum,lower_sum)"
   ]
  },
  {
   "cell_type": "code",
   "execution_count": 50,
   "id": "8ffd18ed",
   "metadata": {},
   "outputs": [
    {
     "data": {
      "text/plain": [
       "0.5"
      ]
     },
     "execution_count": 50,
     "metadata": {},
     "output_type": "execute_result"
    }
   ],
   "source": [
    "a=int(True)/2\n",
    "a"
   ]
  },
  {
   "cell_type": "code",
   "execution_count": 175,
   "id": "404e819a",
   "metadata": {},
   "outputs": [
    {
     "name": "stdout",
     "output_type": "stream",
     "text": [
      "0.7560975609756098\n"
     ]
    }
   ],
   "source": [
    "merge_sort(arr, 0, len(arr) -1)\n",
    "upper_sum=0\n",
    "lower_sum=0\n",
    "start_idx=0\n",
    "same_count_negative=0\n",
    "lowest_mark=arr[-1][0]\n",
    "lowest_mark_range=0\n",
    "marks=[]\n",
    "same_count=0\n",
    "for i in range(len(arr)):\n",
    "    marks.append(arr[i][1])\n",
    "merge_sort(marks, 0, len(marks) -1)\n",
    "for i in range(y):\n",
    "    if (arr[y-1-i][0]>lowest_mark):\n",
    "        lowest_mark_range=i\n",
    "        break\n",
    "marks_size=len(marks)\n",
    "if (y-lowest_mark_range>2):\n",
    "    for i in range(y-lowest_mark_range):\n",
    "        if (i==start_idx):\n",
    "            for j in range(i+1,y):\n",
    "                if (arr[j][0]<arr[i][0]):\n",
    "                    start_idx=j\n",
    "                    break\n",
    "        start_delta=0\n",
    "        start_delta_marks=0\n",
    "        for j in range(i+1,start_idx):\n",
    "            if (arr[j][1]==arr[i][1]):\n",
    "                same_count_negative+=0.5\n",
    "                start_delta+=1\n",
    "        start_idx_marks=binary_search_iterative(marks,arr[i][1],marks_size)\n",
    "        this_mark=marks[start_idx_marks]\n",
    "        #print(marks[start_idx_marks])\n",
    "        #print(marks_size)\n",
    "        #print(start_idx_marks)\n",
    "        for j in range(1,start_idx_marks+1):\n",
    "            if (marks[start_idx_marks-j])==this_mark:\n",
    "                same_count+=0.5\n",
    "            else:\n",
    "                break\n",
    "        for j in range(start_idx_marks+1,marks_size):\n",
    "            if (marks[j])==this_mark: \n",
    "                same_count+=0.5\n",
    "                start_delta_marks+=1\n",
    "            else:\n",
    "                break\n",
    "        #print(marks_size-1-(start_idx_marks+start_delta))\n",
    "        upper_sum+=marks_size-1-start_idx_marks-start_delta_marks-(start_idx-i-1)+start_delta\n",
    "        marks.pop(start_idx_marks)\n",
    "        marks_size-=1\n",
    "        lower_sum+=y-start_idx\n",
    "        #print(start_idx-i-1)\n",
    "        #print(marks[start_idx_marks])\n",
    "        #print(same_count)\n",
    "        #print(upper_sum+same_count-same_count_negative)\n",
    "        #print(marks)\n",
    "    upper_sum+=(same_count-same_count_negative)\n",
    "    if (lower_sum==0):\n",
    "        print(0.0)\n",
    "    else:\n",
    "        print(upper_sum/lower_sum)\n",
    "else:\n",
    "    for i in range(y):\n",
    "        if (arr[y-1-i][0]>lowest_mark):\n",
    "            lowest_mark_range=i\n",
    "            break\n",
    "    for i in range(y-lowest_mark_range):\n",
    "        if (i==start_idx):\n",
    "            for j in range(i+1,y):\n",
    "                if (arr[j][0]<arr[i][0]):\n",
    "                    start_idx=j\n",
    "                    break\n",
    "        for j in range(start_idx,y):\n",
    "            if (arr[i][1]>=arr[j][1]):\n",
    "                if (arr[i][1]>arr[j][1]):\n",
    "                    upper_sum+=1\n",
    "                else:\n",
    "                    upper_sum+=0.5\n",
    "            #upper_sum+=compare_more(arr[i][1],arr[j][1])\n",
    "        lower_sum+=y-start_idx\n",
    "        #print(upper_sum)\n",
    "    if (lower_sum==0):\n",
    "        print(0.0)\n",
    "    else:\n",
    "        print(upper_sum/lower_sum)"
   ]
  },
  {
   "cell_type": "code",
   "execution_count": null,
   "id": "910c6fd6",
   "metadata": {},
   "outputs": [],
   "source": [
    "merge_sort(arr, 0, len(arr) -1)\n",
    "upper_sum=0\n",
    "lower_sum=0\n",
    "start_idx=0\n",
    "same_count_negative=0\n",
    "lowest_mark=arr[-1][0]\n",
    "lowest_mark_range=0\n",
    "marks=[]\n",
    "same_count=0\n",
    "for i in range(len(arr)):\n",
    "    marks.append(arr[i][1])\n",
    "merge_sort(marks, 0, len(marks) -1)\n",
    "for i in range(y):\n",
    "    if (arr[y-1-i][0]>lowest_mark):\n",
    "        lowest_mark_range=i\n",
    "        break\n",
    "marks_size=len(marks)\n",
    "for i in range(y-lowest_mark_range):\n",
    "    if (i==start_idx):\n",
    "        for j in range(i+1,y):\n",
    "            if (arr[j][0]<arr[i][0]):\n",
    "                start_idx=j\n",
    "                break\n",
    "    start_delta=0\n",
    "    start_delta_marks=0\n",
    "    for j in range(i+1,start_idx):\n",
    "        if (arr[j][1]==arr[i][1]):\n",
    "            same_count_negative+=0.5\n",
    "            start_delta+=1\n",
    "    start_idx_marks=binary_search_iterative(marks,arr[i][1],marks_size)\n",
    "    this_mark=marks[start_idx_marks]\n",
    "    for j in range(1,start_idx_marks+1):\n",
    "        if (marks[start_idx_marks-j])==this_mark:\n",
    "            same_count+=0.5\n",
    "        else:\n",
    "            break\n",
    "    for j in range(start_idx_marks+1,marks_size):\n",
    "        if (marks[j])==this_mark: \n",
    "            same_count+=0.5\n",
    "            start_delta_marks+=1\n",
    "        else:\n",
    "            break\n",
    "    upper_sum+=marks_size-1-start_idx_marks-start_delta_marks-(start_idx-i-1)+start_delta\n",
    "    marks.pop(start_idx_marks)\n",
    "    marks_size-=1\n",
    "    lower_sum+=y-start_idx\n",
    "upper_sum+=(same_count-same_count_negative)\n",
    "if (lower_sum==0):\n",
    "    print(0.0)\n",
    "else:\n",
    "    print(upper_sum/lower_sum)\n"
   ]
  },
  {
   "cell_type": "code",
   "execution_count": 106,
   "id": "ab13b21e",
   "metadata": {},
   "outputs": [
    {
     "name": "stdout",
     "output_type": "stream",
     "text": [
      "0.7520325203252033\n"
     ]
    }
   ],
   "source": [
    "def binary_search_iterative(array, element,end):\n",
    "    mid = 0\n",
    "    start = 0\n",
    "    step = 0\n",
    "\n",
    "    while (start <= end):\n",
    "        step = step+1\n",
    "        mid = (start + end) // 2\n",
    "        if element == array[mid]:\n",
    "            return mid\n",
    "        if element > array[mid]:\n",
    "            end = mid - 1\n",
    "        else:\n",
    "            start = mid + 1\n",
    "    return -1\n",
    "def merge_sort(array, left_index, right_index):\n",
    "    if left_index >= right_index:\n",
    "        return\n",
    "\n",
    "    middle = (left_index + right_index)//2\n",
    "    merge_sort(array, left_index, middle)\n",
    "    merge_sort(array, middle + 1, right_index)\n",
    "    merge(array, left_index, right_index, middle)\n",
    "def merge(array, left_index, right_index, middle):\n",
    "    left_copy = array[left_index:middle + 1]\n",
    "    right_copy = array[middle+1:right_index+1]\n",
    "    left_copy_index = 0\n",
    "    right_copy_index = 0\n",
    "    sorted_index = left_index\n",
    "    while left_copy_index < len(left_copy) and right_copy_index < len(right_copy):\n",
    "        if left_copy[left_copy_index] >= right_copy[right_copy_index]:\n",
    "            array[sorted_index] = left_copy[left_copy_index]\n",
    "            left_copy_index = left_copy_index + 1\n",
    "        else:\n",
    "            array[sorted_index] = right_copy[right_copy_index]\n",
    "            right_copy_index = right_copy_index + 1\n",
    "        sorted_index = sorted_index + 1\n",
    "    while left_copy_index < len(left_copy):\n",
    "        array[sorted_index] = left_copy[left_copy_index]\n",
    "        left_copy_index = left_copy_index + 1\n",
    "        sorted_index = sorted_index + 1\n",
    "\n",
    "    while right_copy_index < len(right_copy):\n",
    "        array[sorted_index] = right_copy[right_copy_index]\n",
    "        right_copy_index = right_copy_index + 1\n",
    "        sorted_index = sorted_index + 1\n",
    "\n",
    "#y=int(input())\n",
    "#arr=[]\n",
    "#for i in range(y):\n",
    "#    x=input()\n",
    "#    a=[]\n",
    "#    b=\"\"\n",
    "#    for i in x:\n",
    "#        if i!=\" \":\n",
    "#            b+=i\n",
    "#        else:\n",
    "#            a.append(float(b))\n",
    "#            b=\"\"\n",
    "#    a.append(float(b))\n",
    "#    arr.append(a)\n",
    "#################################\n",
    "fname=\"input.txt\"\n",
    "arr = []\n",
    "for it, line in enumerate(open(fname)):\n",
    "    line = line.strip()\n",
    "    if not line:\n",
    "        continue\n",
    "    if it == 0:\n",
    "        y = int(line)\n",
    "    else:\n",
    "        arr.append(line.split())\n",
    "for i in arr:\n",
    "    for j in range(2):\n",
    "        i[j]=float(i[j])\n",
    "\n",
    "merge_sort(arr, 0, len(arr) -1)\n",
    "upper_sum=0\n",
    "lower_sum=0\n",
    "start_idx=0\n",
    "same_count_negative=0\n",
    "lowest_mark=arr[-1][0]\n",
    "lowest_mark_range=0\n",
    "marks=[]\n",
    "same_count=0\n",
    "for i in range(len(arr)):\n",
    "    marks.append(arr[i][1])\n",
    "merge_sort(marks, 0, len(marks) -1)\n",
    "for i in range(y):\n",
    "    if (arr[y-1-i][0]>lowest_mark):\n",
    "        lowest_mark_range=i\n",
    "        break\n",
    "marks_size=len(marks)\n",
    "for i in range(y-lowest_mark_range):\n",
    "    if (i==start_idx):\n",
    "        for j in range(i+1,y):\n",
    "            if (arr[j][0]<arr[i][0]):\n",
    "                start_idx=j\n",
    "                break\n",
    "    start_delta=0\n",
    "    start_delta_marks=0\n",
    "    for j in range(i+1,start_idx):\n",
    "        if (arr[j][1]==arr[i][1]):\n",
    "            same_count_negative+=0.5\n",
    "            start_delta+=1\n",
    "    start_idx_marks=binary_search_iterative(marks,arr[i][1],marks_size)\n",
    "    this_mark=marks[start_idx_marks]\n",
    "    for j in range(1,start_idx_marks+1):\n",
    "        if (marks[start_idx_marks-j])==this_mark:\n",
    "            same_count+=0.5\n",
    "        else:\n",
    "            break\n",
    "    for j in range(start_idx_marks+1,marks_size):\n",
    "        if (marks[j])==this_mark: \n",
    "            same_count+=0.5\n",
    "            start_delta_marks+=1\n",
    "        else:\n",
    "            break\n",
    "    upper_sum+=marks_size-start_idx_marks-start_delta_marks-start_idx+i+start_delta\n",
    "    del(marks[start_idx_marks])\n",
    "    marks_size-=1\n",
    "    lower_sum+=y-start_idx\n",
    "upper_sum+=(same_count-same_count_negative)\n",
    "if (lower_sum==0):\n",
    "    print(0.0)\n",
    "else:\n",
    "    print(upper_sum/lower_sum)\n"
   ]
  },
  {
   "cell_type": "code",
   "execution_count": 224,
   "id": "d66f71f0",
   "metadata": {},
   "outputs": [],
   "source": [
    "fname=\"input.txt\"\n",
    "arr = []\n",
    "for it, line in enumerate(open(fname)):\n",
    "    line = line.strip()\n",
    "    if not line:\n",
    "        continue\n",
    "    if it == 0:\n",
    "        y = int(line)\n",
    "    else:\n",
    "        arr.append(line.split())\n",
    "for i in arr:\n",
    "    for j in range(2):\n",
    "        i[j]=float(i[j])"
   ]
  },
  {
   "cell_type": "code",
   "execution_count": 217,
   "id": "1c78af8b",
   "metadata": {},
   "outputs": [
    {
     "data": {
      "text/plain": [
       "[[0.123123213, 0.0],\n",
       " [234.243214, 1.352346236],\n",
       " [1213.0, 2235435.0],\n",
       " [12.0, 35467.0],\n",
       " [134534.0, 4467546.0],\n",
       " [1.0, 5.0],\n",
       " [234.243214, 1.352346236],\n",
       " [3.0, 4.0],\n",
       " [12.0, 35467.0],\n",
       " [134534.0, 4467546.0],\n",
       " [3.0, 2.0],\n",
       " [12.0, 35467.0],\n",
       " [134534.0, 4467546.0],\n",
       " [2.0, 0.0],\n",
       " [1.0, 2.0],\n",
       " [234.243214, 1.352346236],\n",
       " [3.0, 3.0]]"
      ]
     },
     "execution_count": 217,
     "metadata": {},
     "output_type": "execute_result"
    }
   ],
   "source": [
    "arr"
   ]
  },
  {
   "cell_type": "code",
   "execution_count": null,
   "id": "8271767e",
   "metadata": {},
   "outputs": [],
   "source": []
  }
 ],
 "metadata": {
  "kernelspec": {
   "display_name": "Python 3 (ipykernel)",
   "language": "python",
   "name": "python3"
  },
  "language_info": {
   "codemirror_mode": {
    "name": "ipython",
    "version": 3
   },
   "file_extension": ".py",
   "mimetype": "text/x-python",
   "name": "python",
   "nbconvert_exporter": "python",
   "pygments_lexer": "ipython3",
   "version": "3.9.12"
  }
 },
 "nbformat": 4,
 "nbformat_minor": 5
}
