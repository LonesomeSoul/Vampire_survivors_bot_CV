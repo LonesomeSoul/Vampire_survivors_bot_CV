{
 "cells": [
  {
   "cell_type": "code",
   "execution_count": 11,
   "id": "2e767a0c",
   "metadata": {},
   "outputs": [],
   "source": [
    "import cv2,keyboard,pyautogui as pg, numpy as np,os,gc,sys\n",
    "from fastai.vision.all import *\n",
    "import utils\n",
    "import torch\n",
    "#import torch.nn as nn\n",
    "#import torch.nn.functional as F\n",
    "import torchvision\n",
    "from torch.utils.data import Dataset, DataLoader\n",
    "import random"
   ]
  },
  {
   "cell_type": "code",
   "execution_count": null,
   "id": "90d50587",
   "metadata": {},
   "outputs": [],
   "source": []
  },
  {
   "cell_type": "code",
   "execution_count": null,
   "id": "ea684884",
   "metadata": {},
   "outputs": [],
   "source": []
  },
  {
   "cell_type": "code",
   "execution_count": 12,
   "id": "1c11fc17",
   "metadata": {},
   "outputs": [],
   "source": [
    "class ArrayDataset(Dataset):\n",
    "    def __init__(self):\n",
    "        global direction_count,path_1\n",
    "        labels=[]\n",
    "        img_arr=[]\n",
    "        for i in range(8):\n",
    "            #screen_name=path_adding_arr[i]+\"\\screen_\"+path_adding_arr[i][1:]+\"_\"+str(0)+\".png\"\n",
    "            #img = cv2.imread(path_1+screen_name)\n",
    "            #img = cv2.cvtColor(img,cv2.COLOR_BGR2GRAY)\n",
    "            #img_arr = np.array(img)\n",
    "            for j in range(direction_count[i]):\n",
    "                screen_name=\"\\\\\"+directions_str_arr[i]+\"\\screen_\"+directions_str_arr[i]+\"_\"+str(j)+\".png\"\n",
    "                img = cv2.imread(path_1+screen_name)\n",
    "                #img=torch.tensor(img,device=\"cuda\")\n",
    "                #img = cv2.cvtColor(img,cv2.COLOR_BGR2GRAY)\n",
    "                img=np.swapaxes(img,0,2)\n",
    "                img_arr.append(img)\n",
    "                #this_label=[[0,0,0,0]]\n",
    "                #this_label[0][i]=1\n",
    "                #this_label=[0,0,0,0]\n",
    "                #this_label[i]=1\n",
    "                this_label=i\n",
    "                labels.append(np.array(this_label))\n",
    "        img_arr=np.array(img_arr)\n",
    "        labels=np.array(labels)\n",
    "        self.x, self.y = img_arr, labels\n",
    "        #self.c = 2 # binary label\n",
    "    \n",
    "    def __len__(self):\n",
    "        return len(self.x)\n",
    "    \n",
    "    def __getitem__(self, i):\n",
    "        #j=random.randint(0,len(self))\n",
    "        return torch.tensor(self.x[i],device=\"cuda\",dtype=torch.float), torch.tensor(self.y[i],device=\"cuda\",dtype=torch.int)"
   ]
  },
  {
   "cell_type": "code",
   "execution_count": 13,
   "id": "5fd08441",
   "metadata": {},
   "outputs": [],
   "source": [
    "def process_cfg(cfg_file_arr):\n",
    "    global directions_str_arr\n",
    "    cfg_file_result=[]\n",
    "    direction_count_str=['directions']\n",
    "    direction_count=[]\n",
    "    path=cfg_file_arr[0][1]\n",
    "    path_imgs=os.path.join(path,\"directions_imgs\")\n",
    "    if os.path.exists(path_imgs)==False:\n",
    "        os.mkdir(path_imgs)\n",
    "    for i in directions_str_arr:\n",
    "        try:\n",
    "            #direction_count_str.append(str(len(os.listdir(os.path.join(path,i)))))\n",
    "            direction_count.append(len(os.listdir(os.path.join(path_imgs,i))))\n",
    "        except:\n",
    "            os.mkdir(os.path.join(path_imgs,i))\n",
    "            #direction_count_str.append(\"0\")\n",
    "            direction_count.append(0)\n",
    "    cfg_file_result.append(direction_count_str)\n",
    "    \n",
    "    screen_arr=[]\n",
    "    for i in range(1,len(cfg_file_arr[1])):\n",
    "        if i<5:\n",
    "            screen_arr.append(int(cfg_file_arr[1][i]))  \n",
    "    return direction_count,screen_arr,path"
   ]
  },
  {
   "cell_type": "code",
   "execution_count": 23,
   "id": "75efce57",
   "metadata": {},
   "outputs": [],
   "source": [
    "root_path=r\"Vampire_survivors_bot\\Vampire_survivors_cfg.txt\"\n",
    "path_adding=\"\"\n",
    "posList=[]\n",
    "#path_adding_arr=[\"\\\\right\",\"\\\\left\",\"\\\\forward\",\"\\\\back\",\"\\\\space\",\"\\\\nothing\"]\n",
    "directions_str_dict={\"r\":0,\"l\":1,\"u\":2,\"d\":3,\"ru\":4,\"rd\":5,\"lu\":6,\"ld\":7}\n",
    "directions_str_arr=[\"r\",\"l\",\"u\",\"d\",\"ru\",\"rd\",\"lu\",\"ld\"]\n",
    "cfg_file_arr=[]\n",
    "#path_1=r\"G:\\DS\\Vampire_survivors\"\n",
    "try:\n",
    "    file=open(root_path)\n",
    "    for it, line in enumerate(file):\n",
    "        line = line.strip()\n",
    "        cfg_file_arr.append(line.split())\n",
    "    file.close()\n",
    "    direction_count,screen_pos_arr,root_path=process_cfg(cfg_file_arr)\n",
    "    path_1=os.path.join(root_path,\"directions_imgs\")\n",
    "    path_2=os.path.join(root_path,\"etc\",\"screenshots\")\n",
    "    x1,y1=screen_pos_arr[0],screen_pos_arr[1]\n",
    "    x2,y2=screen_pos_arr[2],screen_pos_arr[3]\n",
    "except:\n",
    "    print(\"First run grab screen script\")\n",
    "    cv2.waitKey(10000)\n",
    "    sys.exit()\n"
   ]
  },
  {
   "cell_type": "code",
   "execution_count": null,
   "id": "714c893d",
   "metadata": {},
   "outputs": [],
   "source": []
  },
  {
   "cell_type": "code",
   "execution_count": null,
   "id": "a664f0a8",
   "metadata": {},
   "outputs": [],
   "source": []
  },
  {
   "cell_type": "code",
   "execution_count": 22,
   "id": "ade5765f",
   "metadata": {},
   "outputs": [
    {
     "data": {
      "text/plain": [
       "'[0, 0, 0, 0, 0, 0, 0, 0]'"
      ]
     },
     "execution_count": 22,
     "metadata": {},
     "output_type": "execute_result"
    }
   ],
   "source": [
    "screen_count=0\n",
    "cv2.waitKey(5000)\n",
    "#direction_count=[0,0,0,0,0,0] #r,l,u,d,space,nothing\n",
    "post_process=1\n",
    "this_direction_str=\"\"\n",
    "while True:\n",
    "    button_pressed=0\n",
    "    this_direction_str=\"\"\n",
    "    this_direction=[0,0,0,0]\n",
    "    screen=pg.screenshot(region=(x1,y1, x2-x1, y2-y1))\n",
    "    screen=cv2.cvtColor(np.array(screen), cv2.COLOR_BGR2GRAY)\n",
    "    screen = cv2.resize(screen, (224, 224))\n",
    "    if post_process:\n",
    "        screen = cv2.GaussianBlur(screen, (3, 3), 1)\n",
    "        screen = cv2.Canny(screen, threshold1=120, threshold2=100)\n",
    "        path=path_1\n",
    "    else:\n",
    "        path=path_2\n",
    "    cv2.imshow(\"frame\",screen)\n",
    "    if keyboard.is_pressed(\"right\"):\n",
    "        this_direction[0]=1\n",
    "    if keyboard.is_pressed(\"left\"):\n",
    "        this_direction[1]=1\n",
    "    if keyboard.is_pressed(\"up\"):\n",
    "        this_direction[2]=1\n",
    "    if keyboard.is_pressed(\"down\"):\n",
    "        this_direction[3]=1\n",
    "    #if keyboard.is_pressed(\"v\"): #reserved for space button\n",
    "        #this_direction[4]=1\n",
    "    for i in range(4):\n",
    "        if this_direction[i]:\n",
    "            button_pressed=1\n",
    "            this_direction_str+=directions_str_arr[i]\n",
    "        \n",
    "    if keyboard.is_pressed(\"escape\"):\n",
    "        break\n",
    "    #else:\n",
    "        #path_adding=\"\\\\nothing\" #reserved for no keys pressed\n",
    "        #this_direction[5]=1\n",
    "    if (button_pressed):\n",
    "        try:\n",
    "            this_direction_idx=directions_str_dict[this_direction_str]\n",
    "            screen_name=\"\\\\\"+this_direction_str+\"\\screen_\"+this_direction_str+\"_\"+str(direction_count[this_direction_idx])+\".png\"   \n",
    "            cv2.imwrite(path+screen_name, screen)\n",
    "            direction_count[this_direction_idx]+=1\n",
    "        except:\n",
    "            pass\n",
    "    #img = cv2.imread(\"screen.png\")\n",
    "    #if (keyboard.is_pressed(\"f\")):\n",
    "        #cv2.waitKey(\"f\")\n",
    "    cv2.waitKey(20)\n",
    "cv2.destroyWindow('frame')\n",
    "str(direction_count)"
   ]
  },
  {
   "cell_type": "code",
   "execution_count": null,
   "id": "f7406e03",
   "metadata": {},
   "outputs": [],
   "source": [
    "images_data=ArrayDataset()\n",
    "data_size=len(images_data)\n",
    "val_size_rel=0.1 #train-test split part\n",
    "val_size=round(data_size*val_size_rel)\n",
    "train_data,val_data=torch.utils.data.random_split(images_data, [data_size-val_size, val_size])\n",
    "dls = DataLoaders.from_dsets(train_data,val_data,bs=8,device=torch.device('cuda'))\n",
    "learner = vision_learner(dls, resnet18,n_out=8,metrics=error_rate, loss_func=CrossEntropyLossFlat())\n"
   ]
  },
  {
   "cell_type": "code",
   "execution_count": null,
   "id": "30198280",
   "metadata": {},
   "outputs": [],
   "source": [
    "learner.fine_tune(2, base_lr=5.0e-03)"
   ]
  },
  {
   "cell_type": "code",
   "execution_count": null,
   "id": "ed6816e4",
   "metadata": {},
   "outputs": [],
   "source": [
    "learner.save(root_path+\"\\\\trained_model\")\n",
    "sys.exit()"
   ]
  },
  {
   "cell_type": "code",
   "execution_count": null,
   "id": "9cddbcc4",
   "metadata": {},
   "outputs": [],
   "source": [
    "#img = cv2.imread(path_2+\"\\\\back\\screen_back_1568.png\")\n",
    "#img=np.swapaxes(img,0,2)\n",
    "#img=torch.tensor(img,device=\"cuda\",dtype=torch.float)\n",
    "#img.shape\n",
    "\n",
    "#imgBlur = cv2.GaussianBlur(img, (3, 3), 1)\n",
    "#flag=0\n",
    "#while flag==0:\n",
    "#    for i in range(121,122,5):\n",
    "#        for j in range(99,100,5):\n",
    "#            image = cv2.Canny(imgBlur, threshold1=i, threshold2=j)\n",
    "#            cv2.imshow(\"frame\",image)\n",
    "#            cv2.imshow(\"frame_2\",img)\n",
    "#            if keyboard.is_pressed(\"escape\"):\n",
    "#                flag=1\n",
    "#                break\n",
    "#            cv2.waitKey(50)\n",
    "#cv2.destroyWindow('frame')\n",
    "#cv2.destroyWindow('frame_2')"
   ]
  }
 ],
 "metadata": {
  "kernelspec": {
   "display_name": "Python 3 (ipykernel)",
   "language": "python",
   "name": "python3"
  },
  "language_info": {
   "codemirror_mode": {
    "name": "ipython",
    "version": 3
   },
   "file_extension": ".py",
   "mimetype": "text/x-python",
   "name": "python",
   "nbconvert_exporter": "python",
   "pygments_lexer": "ipython3",
   "version": "3.9.12"
  }
 },
 "nbformat": 4,
 "nbformat_minor": 5
}
