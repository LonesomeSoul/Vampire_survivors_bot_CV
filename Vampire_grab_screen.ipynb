{
 "cells": [
  {
   "cell_type": "code",
   "execution_count": 1,
   "id": "26ddebca",
   "metadata": {},
   "outputs": [],
   "source": [
    "import cv2,keyboard,pyautogui as pg, numpy as np,os,gc\n",
    "import utils"
   ]
  },
  {
   "cell_type": "code",
   "execution_count": 2,
   "id": "2cd92258",
   "metadata": {},
   "outputs": [],
   "source": [
    "def process_cfg(cfg_file_arr):\n",
    "    global directions_str_arr\n",
    "    cfg_file_result=[]\n",
    "    direction_count_str=['directions']\n",
    "    direction_count=[]\n",
    "    path=os.path.join(cfg_file_arr[0][1],\"directions_imgs\")\n",
    "    if os.path.exists(path)==False:\n",
    "        os.mkdir(path)\n",
    "    for i in directions_str_arr:\n",
    "        try:\n",
    "            #direction_count_str.append(str(len(os.listdir(os.path.join(path,i)))))\n",
    "            direction_count.append(len(os.listdir(os.path.join(path,i))))\n",
    "        except:\n",
    "            os.mkdir(os.path.join(path,i))\n",
    "            #direction_count_str.append(\"0\")\n",
    "            direction_count.append(0)\n",
    "    cfg_file_result.append(direction_count_str)\n",
    "    \n",
    "    screen_arr=[]\n",
    "    for i in range(1,len(cfg_file_arr[1])):\n",
    "        if i<5:\n",
    "            screen_arr.append(int(cfg_file_arr[1][i]))  \n",
    "    return direction_count,screen_arr"
   ]
  },
  {
   "cell_type": "code",
   "execution_count": 16,
   "id": "3ff96a95",
   "metadata": {},
   "outputs": [],
   "source": [
    "def action():\n",
    "    root_path=r\"G:\\DS\\Vampire_survivors\"\n",
    "    #path_1=r\"G:\\DS\\Vampire_survivors\\directions_imgs\"\n",
    "    path_1=os.path.join(root_path,\"directions_imgs\")\n",
    "    #path_2=r\"G:\\DS\\Vampire_survivors\\etc\\screenshots\"\n",
    "    path_2=os.path.join(root_path,\"etc\",\"screenshots\")\n",
    "\n",
    "    path_adding=\"\"\n",
    "    #path_adding_arr=[\"\\\\right\",\"\\\\left\",\"\\\\forward\",\"\\\\back\",\"\\\\space\",\"\\\\nothing\"]\n",
    "    directions_str_dict={\"r\":0,\"l\":1,\"u\":2,\"d\":3,\"ru\":4,\"rd\":5,\"lu\":6,\"ld\":7}\n",
    "    directions_str_arr=[\"r\",\"l\",\"u\",\"d\",\"ru\",\"rd\",\"lu\",\"ld\"]\n",
    "\n",
    "    def mouseClick(events, x, y, flags, params):\n",
    "        if events == cv2.EVENT_LBUTTONDOWN:\n",
    "            posList.append((x, y))\n",
    "        elif events == cv2.EVENT_RBUTTONDOWN:\n",
    "            posList.pop(-1)\n",
    "\n",
    "    cfg_file_arr=[]\n",
    "    #path_1=r\"G:\\DS\\Vampire_survivors\"\n",
    "    file=open(root_path+\"\\cfg.txt\")\n",
    "    for it, line in enumerate(file):\n",
    "        line = line.strip()\n",
    "        cfg_file_arr.append(line.split())\n",
    "    file.close()\n",
    "    direction_count,screen_pos_arr=process_cfg(cfg_file_arr)\n",
    "    x1,y1=screen_pos_arr[0],screen_pos_arr[1]\n",
    "    x2,y2=screen_pos_arr[2],screen_pos_arr[3]\n",
    "\n",
    "    posList=[]\n",
    "    cv2.waitKey(5000)\n",
    "    img_np=np.array(pg.screenshot())\n",
    "    frame = cv2.cvtColor(img_np, cv2.COLOR_BGR2GRAY)\n",
    "    while True:\n",
    "        #cv2.imwrite(os.path.join(path_1,'123231.png'), frame)\n",
    "        img_np_drawn=img_np.copy()\n",
    "        for i in posList:\n",
    "            cv2.circle(img_np_drawn, (i), radius=3, color=(255, 0, 255), thickness=2)\n",
    "        if len(posList)>1:\n",
    "            cv2.rectangle(img_np_drawn, posList[0], (posList[1][0], posList[1][1]), (255, 0, 255), 2)\n",
    "        cv2.waitKey(1)\n",
    "        cv2.imshow(\"frame\",img_np_drawn)\n",
    "        cv2.setMouseCallback(\"frame\", mouseClick)\n",
    "        if keyboard.is_pressed(\"escape\"):\n",
    "            break\n",
    "    cv2.destroyWindow('frame')\n",
    "    try:\n",
    "        x1,y1=posList[0]\n",
    "        x2,y2=posList[1]\n",
    "    except:\n",
    "        print(\"Ошибка: Неверное количество точек\")\n",
    "\n",
    "    file=open(root_path+\"\\cfg.txt\",\"w\")\n",
    "    file.write(\"path \"+root_path+\"\\n\"+\"screen \")\n",
    "    for i in [x1,y1,x2,y2]:\n",
    "        file.write(str(i)+\" \")\n",
    "    file.close()"
   ]
  },
  {
   "cell_type": "code",
   "execution_count": 17,
   "id": "ec6ce251",
   "metadata": {},
   "outputs": [
    {
     "name": "stdout",
     "output_type": "stream",
     "text": [
      "Press ENTER to exit\n"
     ]
    }
   ],
   "source": [
    "if __name__ == '__main__':\n",
    "    action()"
   ]
  },
  {
   "cell_type": "code",
   "execution_count": 10,
   "id": "5de1f860",
   "metadata": {},
   "outputs": [],
   "source": []
  },
  {
   "cell_type": "code",
   "execution_count": 11,
   "id": "7acef8c3",
   "metadata": {},
   "outputs": [],
   "source": []
  },
  {
   "cell_type": "code",
   "execution_count": null,
   "id": "d60f4aa7",
   "metadata": {},
   "outputs": [],
   "source": []
  }
 ],
 "metadata": {
  "kernelspec": {
   "display_name": "Python 3 (ipykernel)",
   "language": "python",
   "name": "python3"
  },
  "language_info": {
   "codemirror_mode": {
    "name": "ipython",
    "version": 3
   },
   "file_extension": ".py",
   "mimetype": "text/x-python",
   "name": "python",
   "nbconvert_exporter": "python",
   "pygments_lexer": "ipython3",
   "version": "3.9.12"
  }
 },
 "nbformat": 4,
 "nbformat_minor": 5
}
